{
  "cells": [
    {
      "attachments": {},
      "cell_type": "markdown",
      "metadata": {
        "id": "Ur_kUeZHuxJT"
      },
      "source": [
        "# Phase1 Data Collection"
      ]
    },
    {
      "cell_type": "code",
      "execution_count": null,
      "metadata": {
        "colab": {
          "base_uri": "https://localhost:8080/"
        },
        "id": "_qPX0nklS4i-",
        "outputId": "bc266572-8923-4977-a14d-633fef1f53b9"
      },
      "outputs": [],
      "source": [
        "import os\n",
        "import numpy as np\n",
        "import matplotlib.pyplot as plt\n",
        "\n",
        "import torch\n",
        "import torch.nn as nn\n",
        "import torch.optim as optim\n",
        "from torch.utils.data import DataLoader\n",
        "\n",
        "from torchvision import models\n",
        "import torchvision.datasets as dsets\n",
        "import torchvision.transforms as transforms\n",
        "\n",
        "import torchattacks\n",
        "\n",
        "device = torch.device(\"cuda\" if torch.cuda.is_available() else \"cpu\")\n",
        "folder_path = ''"
      ]
    },
    {
      "cell_type": "code",
      "execution_count": null,
      "metadata": {
        "colab": {
          "base_uri": "https://localhost:8080/"
        },
        "id": "ff50tb-2kFvR",
        "outputId": "05c88302-962a-4a47-cba0-953f750733d0"
      },
      "outputs": [],
      "source": [
        "batch_size = 64\n",
        "\n",
        "cifar10_train = dsets.CIFAR10(root='./data', train=True,\n",
        "                              download=True, transform=transforms.ToTensor())\n",
        "cifar10_test  = dsets.CIFAR10(root='./data', train=False,\n",
        "                              download=True, transform=transforms.ToTensor())\n",
        "\n",
        "train_loader = DataLoader(cifar10_train, batch_size=batch_size, shuffle=True)\n",
        "test_loader = DataLoader(cifar10_test, batch_size=batch_size, shuffle=False)\n",
        "\n",
        "print(\"Training data: \", len(cifar10_train))\n",
        "print(\"Testing data: \",len(cifar10_test))"
      ]
    },
    {
      "cell_type": "code",
      "execution_count": null,
      "metadata": {
        "colab": {
          "base_uri": "https://localhost:8080/"
        },
        "id": "AJHC4wZjfF64",
        "outputId": "3ad37a17-a9a0-4cf0-f7f1-7fac5048ec97"
      },
      "outputs": [],
      "source": [
        "model = models.resnet18(pretrained=True)\n",
        "num_frts = model.fc.in_features\n",
        "model.fc = nn.Sequential(\n",
        "    nn.Linear(num_frts, 10)\n",
        "    )\n",
        "\n",
        "model = model.to(device)"
      ]
    },
    {
      "cell_type": "code",
      "execution_count": null,
      "metadata": {
        "id": "pRFDGmQG68go"
      },
      "outputs": [],
      "source": [
        "def model_training(num_epoch=100):\n",
        "  criterion = nn.CrossEntropyLoss()\n",
        "  optimizer = optim.Adam(model.parameters(), lr=0.001)\n",
        "\n",
        "  epochs = num_epoch\n",
        "  losses = []\n",
        "  accuracy = []\n",
        "\n",
        "  for epoch in range(epochs): \n",
        "      print('Epoch', epoch+1, '/', epochs)\n",
        "      total = 0\n",
        "      correct = 0   \n",
        "      model.train()\n",
        "\n",
        "      for images, labels in train_loader:\n",
        "          images = images.to(device)\n",
        "          labels = labels.to(device)\n",
        "          optimizer.zero_grad()\n",
        "          outputs = model(images)\n",
        "          loss = criterion(outputs, labels)\n",
        "          loss.backward()\n",
        "          optimizer.step()\n",
        "\n",
        "          _, predicted = torch.max(outputs.data, 1)\n",
        "\n",
        "          total += labels.size(0)\n",
        "          correct += (predicted == labels.to(device)).sum()\n",
        "      \n",
        "      losses.append(loss)\n",
        "      accuracy.append((correct/total).item())\n",
        "          \n",
        "      print(\"train loss \", float(loss), \"train acc \", (correct/total).item())\n",
        "          \n",
        "  print('Finished Training')\n",
        "  torch.save(model.state_dict(), folder_path+'cifar10_resnet18.pt')"
      ]
    },
    {
      "cell_type": "code",
      "execution_count": null,
      "metadata": {
        "colab": {
          "base_uri": "https://localhost:8080/"
        },
        "id": "sp5YaFVKZWkh",
        "outputId": "386baaec-cb1e-4304-bece-17df43d9db86"
      },
      "outputs": [],
      "source": [
        "if os.path.isfile(folder_path+'/cifar10_resnet18.pt'):\n",
        "  model.load_state_dict(torch.load(folder_path+'cifar10_resnet18.pt')) \n",
        "  model = model.eval()\n",
        "\n",
        "else:\n",
        "  model_training(100)\n",
        "  model = model.eval()"
      ]
    },
    {
      "cell_type": "code",
      "execution_count": null,
      "metadata": {
        "id": "XH58kBUfcHs4"
      },
      "outputs": [],
      "source": [
        "def load_attack(attack_name):\n",
        "  adv_loader = atk.load(load_path=folder_path+'cifar10_'+str(attack_name)+'.pt', load_predictions=True, load_clean_inputs=True, batch_size=10000)\n",
        "  adv_images, orig_labels, adv_preds, clean_images = next(iter(adv_loader))\n",
        "\n",
        "  clean_preds = torch.tensor([])\n",
        "  correct = 0\n",
        "  total = 0\n",
        "\n",
        "  for images, labels in test_loader:\n",
        "    output = model(images.to(device))\n",
        "    _, pred = torch.max(output.data, 1)\n",
        "\n",
        "    total += labels.size(0)\n",
        "    correct += (pred == labels.to(device)).sum()\n",
        "\n",
        "    clean_preds = torch.cat((clean_preds, pred.cpu().data), 0)\n",
        "  \n",
        "  print('Standard accuracy: %.2f %%' % (100 * float(correct) / total))\n",
        "\n",
        "  adv_correct = 0\n",
        "  adv_total = 0\n",
        "\n",
        "  for images, labels, _, _ in adv_loader: \n",
        "    outputs = model(images.to(device))\n",
        "    _, pred = torch.max(outputs.data, 1)\n",
        "\n",
        "    adv_total += labels.size(0)\n",
        "    adv_correct += (pred == labels.to(device)).sum()\n",
        "\n",
        "  print('Robust accuracy: %.2f %%' % (100 * float(adv_correct) / adv_total))\n",
        "\n",
        "  return orig_labels, clean_images, clean_preds, adv_images, adv_preds"
      ]
    },
    {
      "cell_type": "code",
      "execution_count": null,
      "metadata": {
        "id": "sPGTNqi8_o-F"
      },
      "outputs": [],
      "source": [
        "def generate_success_attack(orig_labels, clean_images, clean_preds, adv_images, adv_preds, attack_name):\n",
        "  images = torch.tensor([])\n",
        "  labels = torch.tensor([])\n",
        "  i = 0 \n",
        "\n",
        "  for num in range(len(orig_labels)):\n",
        "    if clean_preds[num] != adv_preds[num]:\n",
        "      clean_image_num = clean_images[num].unsqueeze(0)\n",
        "      clean_pred_num = torch.zeros(1)\n",
        "      adv_image_num = adv_images[num].unsqueeze(0)\n",
        "      adv_pred_num = torch.ones(1)\n",
        "      \n",
        "      if orig_labels[num] == clean_preds[num] and orig_labels[num] != adv_preds[num]: \n",
        "        i += 1\n",
        "        images = torch.cat((images, clean_image_num, adv_image_num), 0)\n",
        "        labels = torch.cat((labels, clean_pred_num, adv_pred_num), 0)\n",
        "\n",
        "  print(\"Successful attack: \", i)\n",
        "  print(images.shape)\n",
        "  print(labels.shape)\n",
        "\n",
        "  np.save(folder_path + 'images_'+str(attack_name)+'.npy', images)\n",
        "  np.save(folder_path + 'labels_'+str(attack_name)+'.npy', labels) "
      ]
    },
    {
      "cell_type": "code",
      "execution_count": null,
      "metadata": {
        "colab": {
          "base_uri": "https://localhost:8080/",
          "height": 767
        },
        "id": "y8VjYhyufxs_",
        "outputId": "e2dce4d3-0fa8-4ced-b9d0-5902daa3719c"
      },
      "outputs": [],
      "source": [
        "attack_name = ['pgd','deepfool','fgsm']\n",
        "\n",
        "for attack in attack_name:\n",
        "  print(attack)\n",
        "  if attack == 'pgd':\n",
        "    atk = torchattacks.PGD(model, eps=8/255, alpha=2/225, steps=100, random_start=True)\n",
        "  elif attack == 'deepfool':\n",
        "    atk = torchattacks.DeepFool(model, steps=50, overshoot=0.02)\n",
        "  elif attack == 'fgsm':\n",
        "    atk = torchattacks.FGSM(model, eps=8/255)\n",
        "  else:\n",
        "    print(\"Error method\")\n",
        "    \n",
        "  if os.path.isfile(folder_path+'/cifar10_'+str(attack)+'.pt'):\n",
        "    o_labels, c_images, c_preds, a_images, a_preds = load_attack(attack)\n",
        "    generate_success_attack(o_labels, c_images, c_preds, a_images, a_preds, attack)\n",
        "    \n",
        "  else:\n",
        "    atk.save(data_loader=test_loader, save_path=folder_path+'cifar10_'+str(attack)+'.pt', save_predictions=True, save_clean_inputs=True)\n",
        "    o_labels, c_images, c_preds, a_images, a_preds = load_attack(attack)\n",
        "    generate_success_attack(o_labels, c_images, c_preds, a_images, a_preds, attack)"
      ]
    }
  ],
  "metadata": {
    "accelerator": "GPU",
    "colab": {
      "provenance": []
    },
    "gpuClass": "standard",
    "kernelspec": {
      "display_name": "Python 3.9.13 64-bit",
      "language": "python",
      "name": "python3"
    },
    "language_info": {
      "codemirror_mode": {
        "name": "ipython",
        "version": 3
      },
      "file_extension": ".py",
      "mimetype": "text/x-python",
      "name": "python",
      "nbconvert_exporter": "python",
      "pygments_lexer": "ipython3",
      "version": "3.9.13"
    },
    "vscode": {
      "interpreter": {
        "hash": "82ed002fa2d4956f5c6aec99bcefe0f73a9f79882f3c9e2319b14958a5896ac5"
      }
    }
  },
  "nbformat": 4,
  "nbformat_minor": 0
}
