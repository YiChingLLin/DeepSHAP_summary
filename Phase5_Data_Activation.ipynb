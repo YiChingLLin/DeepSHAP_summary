{
  "cells": [
    {
      "attachments": {},
      "cell_type": "markdown",
      "metadata": {
        "id": "Ur_kUeZHuxJT"
      },
      "source": [
        "# Phase5 Data Activation"
      ]
    },
    {
      "cell_type": "code",
      "execution_count": null,
      "metadata": {
        "id": "_qPX0nklS4i-"
      },
      "outputs": [],
      "source": [
        "import os\n",
        "import numpy as np\n",
        "import matplotlib.pyplot as plt\n",
        "\n",
        "import torch\n",
        "import torch.nn as nn\n",
        "import torch.optim as optim\n",
        "from torch.utils.data import DataLoader\n",
        "\n",
        "from torchvision import models\n",
        "import torchvision.datasets as dsets\n",
        "import torchvision.transforms as transforms\n",
        "from torchvision.models.feature_extraction import create_feature_extractor\n",
        "\n",
        "import torchattacks\n",
        "\n",
        "device = torch.device(\"cuda\" if torch.cuda.is_available() else \"cpu\")\n",
        "folder_path = ''"
      ]
    },
    {
      "cell_type": "code",
      "execution_count": null,
      "metadata": {
        "id": "AJHC4wZjfF64"
      },
      "outputs": [],
      "source": [
        "model = models.resnet18(pretrained=True)\n",
        "num_frts = model.fc.in_features\n",
        "model.fc = nn.Sequential(\n",
        "    nn.Linear(num_frts, 10)\n",
        "    )\n",
        "\n",
        "model = model.to(device)"
      ]
    },
    {
      "cell_type": "code",
      "execution_count": 5,
      "metadata": {
        "id": "XH58kBUfcHs4"
      },
      "outputs": [],
      "source": [
        "def load_attack(attack_name):\n",
        "  adv_loader = atk.load(load_path=folder_path+'cifar10_'+str(attack_name)+'.pt', load_predictions=True, load_clean_inputs=True, batch_size=10000)\n",
        "  adv_images, orig_labels, adv_preds, clean_images = next(iter(adv_loader))\n",
        "\n",
        "  clean_preds = torch.tensor([])\n",
        "  correct = 0\n",
        "  total = 0\n",
        "\n",
        "  for images, labels in test_loader:\n",
        "    output = model(images.to(device))\n",
        "    _, pred = torch.max(output.data, 1)\n",
        "\n",
        "    total += labels.size(0)\n",
        "    correct += (pred == labels.to(device)).sum()\n",
        "\n",
        "    clean_preds = torch.cat((clean_preds, pred.cpu().data), 0)\n",
        "\n",
        "  print('Standard accuracy: %.2f %%' % (100 * float(correct) / total))\n",
        "\n",
        "  adv_correct = 0\n",
        "  adv_total = 0\n",
        "\n",
        "  for images, labels, _, _ in adv_loader:\n",
        "    outputs = model(images.to(device))\n",
        "    _, pred = torch.max(outputs.data, 1)\n",
        "\n",
        "    adv_total += labels.size(0)\n",
        "    adv_correct += (pred == labels.to(device)).sum()\n",
        "\n",
        "  print('Robust accuracy: %.2f %%' % (100 * float(adv_correct) / adv_total))\n",
        "\n",
        "  return orig_labels, clean_images, clean_preds, adv_images, adv_preds"
      ]
    },
    {
      "cell_type": "code",
      "execution_count": 6,
      "metadata": {
        "id": "sPGTNqi8_o-F"
      },
      "outputs": [],
      "source": [
        "def generate_success_attack(orig_labels, clean_images, clean_preds, adv_images, adv_preds, attack_name):\n",
        "  images = torch.tensor([])\n",
        "  labels = torch.tensor([])\n",
        "  i = 0\n",
        "\n",
        "  for num in range(len(orig_labels)):\n",
        "    if clean_preds[num] != adv_preds[num]:\n",
        "      clean_image_num = clean_images[num].unsqueeze(0)\n",
        "      clean_pred_num = torch.zeros(1)\n",
        "      adv_image_num = adv_images[num].unsqueeze(0)\n",
        "      adv_pred_num = torch.ones(1)\n",
        "\n",
        "      if orig_labels[num] == clean_preds[num] and orig_labels[num] != adv_preds[num]:\n",
        "        i += 1\n",
        "        images = torch.cat((images, clean_image_num, adv_image_num), 0)\n",
        "        labels = torch.cat((labels, clean_pred_num, adv_pred_num), 0)\n",
        "\n",
        "  print(\"Successful attack: \", i)\n",
        "  print(images.shape)\n",
        "  print(labels.shape)\n",
        "\n",
        "  np.save(folder_path + 'images_'+str(attack_name)+'.npy', images)\n",
        "  np.save(folder_path + 'labels_'+str(attack_name)+'.npy', labels)"
      ]
    },
    {
      "cell_type": "code",
      "execution_count": null,
      "metadata": {
        "id": "uVc9ETKTdpSu"
      },
      "outputs": [],
      "source": [
        "# common critical neuron\n",
        "def load_common(alpha, beta):\n",
        "  common_layer = []\n",
        "\n",
        "  normal = np.load(folder_path+'normal_'+str(alpha)+'_'+str(beta)+'.npy', allow_pickle=True)\n",
        "  adversarial = np.load(folder_path+'adversarial_'+str(alpha)+'_'+str(beta)+'.npy', allow_pickle=True)\n",
        "\n",
        "  for i in range(len(normal)):\n",
        "    if np.sum(normal[i]) > 0 or np.sum(adversarial[i]) > 0:\n",
        "      common_layer.append(i)\n",
        "      globals()['common_'+str(i)] = np.where(np.add(normal[i], adversarial[i]) > 0, 1, 0)\n",
        "      print(\"layer:\", i, np.sum(normal[i]), np.sum(adversarial[i]), np.sum(globals()['common_'+str(i)]))\n",
        "\n",
        "  return common_layer"
      ]
    },
    {
      "cell_type": "code",
      "execution_count": 8,
      "metadata": {
        "id": "8ZpKel1qq7Mz"
      },
      "outputs": [],
      "source": [
        "def get_inter_model(common_layer, all_layer):\n",
        "  return_nodes = {}\n",
        "  if len(common_layer) > 0:\n",
        "    for i in common_layer:\n",
        "      return_nodes[all_layer[i]] = str(i)\n",
        "\n",
        "  inter_model = create_feature_extractor(model, return_nodes=return_nodes)\n",
        "\n",
        "  return inter_model"
      ]
    },
    {
      "cell_type": "code",
      "execution_count": 9,
      "metadata": {
        "id": "tz2VDsH8uzNj"
      },
      "outputs": [],
      "source": [
        "def generate_activation(inter_model, common_layer, all_image, all_label, attack_name, alpha, beta):\n",
        "  activation_x = np.empty(len(all_image))\n",
        "  activation_y = np.empty(len(all_image))\n",
        "\n",
        "  inter_output = inter_model(torch.Tensor(all_image).to(device))\n",
        "\n",
        "  for i in common_layer:\n",
        "    out = np.empty(len(all_image))\n",
        "    if i == 0 or i == 1:\n",
        "      with_zero_out = np.asarray(torch.flatten(torch.Tensor(np.multiply(all_image, globals()['common_'+str(i)])), start_dim=1))\n",
        "    else:\n",
        "      with_zero_out = np.asarray(torch.flatten(torch.Tensor(np.multiply(np.array(inter_output[str(i)].tolist()), globals()['common_'+str(i)])), start_dim=1))\n",
        "\n",
        "    for num in range(len(with_zero_out)):\n",
        "      if num == 0:\n",
        "        out = np.expand_dims(with_zero_out[num][np.nonzero(globals()['common_'+str(i)].flatten())], axis=0)\n",
        "      else:\n",
        "        out = np.concatenate((out, np.expand_dims(with_zero_out[num][np.nonzero(globals()['common_'+str(i)].flatten())], axis=0)), axis=0)\n",
        "\n",
        "    if i == common_layer[0]:\n",
        "      activation_x = out\n",
        "    else:\n",
        "      activation_x = np.concatenate((activation_x, out), axis=1)\n",
        "  \n",
        "  activation_y = all_label\n",
        "  print(activation_x.shape, activation_y.shape)\n",
        "\n",
        "  np.save(folder_path+'activation_x_'+str(attack_name)+'_'+str(alpha)+'_'+str(beta)+'.npy', activation_x)\n",
        "  np.save(folder_path+'activation_y_'+str(attack_name)+'_'+str(alpha)+'_'+str(beta)+'.npy', activation_y)"
      ]
    },
    {
      "cell_type": "code",
      "execution_count": null,
      "metadata": {
        "colab": {
          "base_uri": "https://localhost:8080/"
        },
        "id": "qFGxSyM-r7I7",
        "outputId": "6dd64219-8789-4a37-9818-125a52a9dab9"
      },
      "outputs": [],
      "source": [
        "attack_name = ['pgd','deepfool','fgsm']\n",
        "all_layer = ['', '', 'bn1', 'relu', 'maxpool', 'layer1', 'layer2', 'layer3', 'layer4', 'avgpool']\n",
        "alpha = 0.95\n",
        "test_beta = [0.5, 0.6, 0.7, 0.8, 0.9]\n",
        "\n",
        "for attack in attack_name:\n",
        "  print(attack)\n",
        "  if attack == 'pgd':\n",
        "    atk = torchattacks.PGD(model, eps=8/255, alpha=2/225, steps=100, random_start=True)\n",
        "  elif attack == 'deepfool':\n",
        "    atk = torchattacks.DeepFool(model, steps=50, overshoot=0.02)\n",
        "  elif attack == 'fgsm':\n",
        "    atk = torchattacks.FGSM(model, eps=8/255)\n",
        "  else:\n",
        "    print(\"Error method\")\n",
        "\n",
        "  if os.path.isfile(folder_path+'cifar10_'+str(attack)+'.pt'):\n",
        "    images = np.load(folder_path + 'images_'+str(attack)+'.npy')\n",
        "    labels = np.load(folder_path + 'labels_'+str(attack)+'.npy')\n",
        "\n",
        "    for beta in test_beta:\n",
        "      print(\"alpha: \", alpha, \"beta: \", beta)\n",
        "      common = load_common(alpha, beta)\n",
        "      intermediate_model = get_inter_model(common, all_layer)\n",
        "      generate_activation(intermediate_model, common, images, labels, attack, alpha, beta)\n",
        "\n",
        "  else:\n",
        "    atk.save(data_loader=test_loader, save_path=folder_path+'cifar10_'+str(attack)+'.pt', save_predictions=True, save_clean_inputs=True)\n",
        "    o_labels, c_images, c_preds, a_images, a_preds = load_attack(attack)\n",
        "    generate_success_attack(o_labels, c_images, c_preds, a_images, a_preds, attack)\n",
        "\n",
        "    images = np.load(folder_path + 'images_'+str(attack)+'.npy')\n",
        "    labels = np.load(folder_path + 'labels_'+str(attack)+'.npy')\n",
        "\n",
        "    for beta in test_beta:\n",
        "      print(\"alpha: \", alpha, \"beta: \", beta)\n",
        "      common = load_common(alpha, beta)\n",
        "      intermediate_model = get_inter_model(common, all_layer)\n",
        "      generate_activation(intermediate_model, common, images, labels, attack, alpha, beta)"
      ]
    }
  ],
  "metadata": {
    "accelerator": "GPU",
    "colab": {
      "provenance": []
    },
    "gpuClass": "standard",
    "kernelspec": {
      "display_name": "Python 3.9.13 64-bit",
      "language": "python",
      "name": "python3"
    },
    "language_info": {
      "codemirror_mode": {
        "name": "ipython",
        "version": 3
      },
      "file_extension": ".py",
      "mimetype": "text/x-python",
      "name": "python",
      "nbconvert_exporter": "python",
      "pygments_lexer": "ipython3",
      "version": "3.9.13"
    },
    "vscode": {
      "interpreter": {
        "hash": "82ed002fa2d4956f5c6aec99bcefe0f73a9f79882f3c9e2319b14958a5896ac5"
      }
    }
  },
  "nbformat": 4,
  "nbformat_minor": 0
}
